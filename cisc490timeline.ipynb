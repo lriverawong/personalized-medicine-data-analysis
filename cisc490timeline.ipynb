{
 "cells": [
  {
   "cell_type": "markdown",
   "metadata": {},
   "source": [
    "# Timeline"
   ]
  },
  {
   "cell_type": "markdown",
   "metadata": {},
   "source": [
    "## Due Dates"
   ]
  },
  {
   "cell_type": "markdown",
   "metadata": {},
   "source": [
    "       Exploratory Analysis: January 28, 2018\n",
    "    Project Progress Report: February 27, 2018\n",
    "       Project Final Report: April 6, 2018\n",
    "             Project Poster: April 6, 2018"
   ]
  },
  {
   "cell_type": "markdown",
   "metadata": {},
   "source": [
    "## Tasks"
   ]
  },
  {
   "cell_type": "markdown",
   "metadata": {},
   "source": [
    "            Data Exploration: January 22, 2018 - February 5, 2018 (Weeks 3-5)\n",
    "            Data Preparation: February 5, 2018 - March 2, 2018 (Weeks 5-8)\n",
    "                    Modeling: March 2, 2018 - March 20, 2018 (Weeks 8-10)\n",
    "    Documentation and Poster: March 20, 2018 - April 6, 2018 (Weeks 10-12)"
   ]
  },
  {
   "cell_type": "markdown",
   "metadata": {
    "collapsed": true
   },
   "source": [
    "# Challenges with the Data"
   ]
  },
  {
   "cell_type": "markdown",
   "metadata": {},
   "source": [
    "    Challenge: Some test data is machine generated. Text analysis may give unusual results.\n",
    "    Solution: Filter out machine generated text, but this would be time consuming.\n",
    "\n",
    "    Challenge: Medical terminology is complex, ie. includes number coded acryonyms. Increases difficulty of text mining.\n",
    "    Solution: Biomedical text mining tools are available, as well as biomedical dictionaries to compare text against."
   ]
  },
  {
   "cell_type": "code",
   "execution_count": null,
   "metadata": {
    "collapsed": true
   },
   "outputs": [],
   "source": []
  }
 ],
 "metadata": {
  "kernelspec": {
   "display_name": "Python 3",
   "language": "python",
   "name": "python3"
  },
  "language_info": {
   "codemirror_mode": {
    "name": "ipython",
    "version": 3
   },
   "file_extension": ".py",
   "mimetype": "text/x-python",
   "name": "python",
   "nbconvert_exporter": "python",
   "pygments_lexer": "ipython3",
   "version": "3.6.3"
  }
 },
 "nbformat": 4,
 "nbformat_minor": 2
}
